{
  "nbformat": 4,
  "nbformat_minor": 0,
  "metadata": {
    "colab": {
      "name": "Pandas_Prueba.ipynb",
      "provenance": []
    },
    "kernelspec": {
      "name": "python3",
      "display_name": "Python 3"
    }
  },
  "cells": [
    {
      "cell_type": "markdown",
      "metadata": {
        "id": "I__zc_gBjbqF",
        "colab_type": "text"
      },
      "source": [
        "## Funciones para acceder a archivos"
      ]
    },
    {
      "cell_type": "code",
      "metadata": {
        "id": "v8saueefjYOI",
        "colab_type": "code",
        "colab": {}
      },
      "source": [
        "from google.colab import files # Te permite importar archivos desde tus archivos en PC\n",
        "uploaded = files.upload()"
      ],
      "execution_count": 0,
      "outputs": []
    },
    {
      "cell_type": "code",
      "metadata": {
        "id": "0GLWTx-RjjN9",
        "colab_type": "code",
        "colab": {}
      },
      "source": [
        "file = np.loadtxt(\"datos Inicial.txt\") # Se cargan el archivo\n",
        "print(file)"
      ],
      "execution_count": 0,
      "outputs": []
    },
    {
      "cell_type": "code",
      "metadata": {
        "id": "CNEsY1SckazE",
        "colab_type": "code",
        "outputId": "0cb8c15a-9e8e-44ee-e66a-8ce8d69c620c",
        "colab": {
          "base_uri": "https://localhost:8080/",
          "height": 66
        }
      },
      "source": [
        "#Para descargar desde el github\n",
        "!curl --remote-name \\\n",
        "     -H 'Accept: application/vnd.github.v3.raw' \\\n",
        "     --location https://raw.githubusercontent.com/lijumtzc/Suicide-Rates/master/master.csv"
      ],
      "execution_count": 0,
      "outputs": [
        {
          "output_type": "stream",
          "text": [
            "  % Total    % Received % Xferd  Average Speed   Time    Time     Time  Current\n",
            "                                 Dload  Upload   Total   Spent    Left  Speed\n",
            "100 2642k  100 2642k    0     0  4195k      0 --:--:-- --:--:-- --:--:-- 4195k\n"
          ],
          "name": "stdout"
        }
      ]
    },
    {
      "cell_type": "code",
      "metadata": {
        "id": "vg11nYapkezi",
        "colab_type": "code",
        "outputId": "c07d5e1f-da87-4c50-fcdc-8316904ed5bd",
        "colab": {
          "base_uri": "https://localhost:8080/",
          "height": 33
        }
      },
      "source": [
        "!ls #Te permite ver el archivo"
      ],
      "execution_count": 0,
      "outputs": [
        {
          "output_type": "stream",
          "text": [
            "master.csv  sample_data\n"
          ],
          "name": "stdout"
        }
      ]
    },
    {
      "cell_type": "code",
      "metadata": {
        "id": "4k46tI-oklZq",
        "colab_type": "code",
        "outputId": "68db71d2-4c56-49b3-b334-a4d3b3615a1a",
        "colab": {
          "base_uri": "https://localhost:8080/",
          "height": 180
        }
      },
      "source": [
        "!head master.csv # Visulaizas parte de la información"
      ],
      "execution_count": 0,
      "outputs": [
        {
          "output_type": "stream",
          "text": [
            "﻿country,year,sex,age,suicides_no,population,suicides/100k pop,country-year,HDI for year, gdp_for_year ($) ,gdp_per_capita ($),generation\r\n",
            "Albania,1987,male,15-24 years,21,312900,6.71,Albania1987,,\"2,156,624,900\",796,Generation X\r\n",
            "Albania,1987,male,35-54 years,16,308000,5.19,Albania1987,,\"2,156,624,900\",796,Silent\r\n",
            "Albania,1987,female,15-24 years,14,289700,4.83,Albania1987,,\"2,156,624,900\",796,Generation X\r\n",
            "Albania,1987,male,75+ years,1,21800,4.59,Albania1987,,\"2,156,624,900\",796,G.I. Generation\r\n",
            "Albania,1987,male,25-34 years,9,274300,3.28,Albania1987,,\"2,156,624,900\",796,Boomers\r\n",
            "Albania,1987,female,75+ years,1,35600,2.81,Albania1987,,\"2,156,624,900\",796,G.I. Generation\r\n",
            "Albania,1987,female,35-54 years,6,278800,2.15,Albania1987,,\"2,156,624,900\",796,Silent\r\n",
            "Albania,1987,female,25-34 years,4,257200,1.56,Albania1987,,\"2,156,624,900\",796,Boomers\r\n",
            "Albania,1987,male,55-74 years,1,137500,0.73,Albania1987,,\"2,156,624,900\",796,G.I. Generation\r\n"
          ],
          "name": "stdout"
        }
      ]
    },
    {
      "cell_type": "code",
      "metadata": {
        "id": "asrknzed6USF",
        "colab_type": "code",
        "colab": {}
      },
      "source": [
        "import pandas as pd\n",
        "import numpy as np\n",
        "import os\n",
        "\n",
        "\n",
        "# to download https://www.kaggle.com/russellyates88/suicide-rates-overview-1985-to-2016\n",
        "data_path = 'path/to/folder/'\n",
        "\n",
        "df = (pd.read_csv(filepath_or_buffer=os.path.join('master.csv'))\n",
        "      .rename(columns={'suicides/100k pop' : 'suicides_per_100k',\n",
        "                       ' gdp_for_year ($) ' : 'gdp_year', \n",
        "                       'gdp_per_capita ($)' : 'gdp_capita',\n",
        "                       'country-year' : 'country_year'})\n",
        "      .assign(gdp_year=lambda _df: _df['gdp_year'].str.replace(',','').astype(np.int64))\n",
        "     )"
      ],
      "execution_count": 0,
      "outputs": []
    },
    {
      "cell_type": "code",
      "metadata": {
        "id": "sH2WRLUg6xu5",
        "colab_type": "code",
        "outputId": "aa13a2c5-70e6-4b24-fade-3e40aea0ece9",
        "colab": {
          "base_uri": "https://localhost:8080/",
          "height": 391
        }
      },
      "source": [
        "df"
      ],
      "execution_count": 0,
      "outputs": [
        {
          "output_type": "execute_result",
          "data": {
            "text/html": [
              "<div>\n",
              "<style scoped>\n",
              "    .dataframe tbody tr th:only-of-type {\n",
              "        vertical-align: middle;\n",
              "    }\n",
              "\n",
              "    .dataframe tbody tr th {\n",
              "        vertical-align: top;\n",
              "    }\n",
              "\n",
              "    .dataframe thead th {\n",
              "        text-align: right;\n",
              "    }\n",
              "</style>\n",
              "<table border=\"1\" class=\"dataframe\">\n",
              "  <thead>\n",
              "    <tr style=\"text-align: right;\">\n",
              "      <th></th>\n",
              "      <th>country</th>\n",
              "      <th>year</th>\n",
              "      <th>sex</th>\n",
              "      <th>age</th>\n",
              "      <th>suicides_no</th>\n",
              "      <th>population</th>\n",
              "      <th>suicides_per_100k</th>\n",
              "      <th>country_year</th>\n",
              "      <th>HDI for year</th>\n",
              "      <th>gdp_year</th>\n",
              "      <th>gdp_capita</th>\n",
              "      <th>generation</th>\n",
              "    </tr>\n",
              "  </thead>\n",
              "  <tbody>\n",
              "    <tr>\n",
              "      <th>0</th>\n",
              "      <td>Albania</td>\n",
              "      <td>1987</td>\n",
              "      <td>male</td>\n",
              "      <td>15-24 years</td>\n",
              "      <td>21</td>\n",
              "      <td>312900</td>\n",
              "      <td>6.71</td>\n",
              "      <td>Albania1987</td>\n",
              "      <td>NaN</td>\n",
              "      <td>2156624900</td>\n",
              "      <td>796</td>\n",
              "      <td>Generation X</td>\n",
              "    </tr>\n",
              "    <tr>\n",
              "      <th>1</th>\n",
              "      <td>Albania</td>\n",
              "      <td>1987</td>\n",
              "      <td>male</td>\n",
              "      <td>35-54 years</td>\n",
              "      <td>16</td>\n",
              "      <td>308000</td>\n",
              "      <td>5.19</td>\n",
              "      <td>Albania1987</td>\n",
              "      <td>NaN</td>\n",
              "      <td>2156624900</td>\n",
              "      <td>796</td>\n",
              "      <td>Silent</td>\n",
              "    </tr>\n",
              "    <tr>\n",
              "      <th>2</th>\n",
              "      <td>Albania</td>\n",
              "      <td>1987</td>\n",
              "      <td>female</td>\n",
              "      <td>15-24 years</td>\n",
              "      <td>14</td>\n",
              "      <td>289700</td>\n",
              "      <td>4.83</td>\n",
              "      <td>Albania1987</td>\n",
              "      <td>NaN</td>\n",
              "      <td>2156624900</td>\n",
              "      <td>796</td>\n",
              "      <td>Generation X</td>\n",
              "    </tr>\n",
              "    <tr>\n",
              "      <th>3</th>\n",
              "      <td>Albania</td>\n",
              "      <td>1987</td>\n",
              "      <td>male</td>\n",
              "      <td>75+ years</td>\n",
              "      <td>1</td>\n",
              "      <td>21800</td>\n",
              "      <td>4.59</td>\n",
              "      <td>Albania1987</td>\n",
              "      <td>NaN</td>\n",
              "      <td>2156624900</td>\n",
              "      <td>796</td>\n",
              "      <td>G.I. Generation</td>\n",
              "    </tr>\n",
              "    <tr>\n",
              "      <th>4</th>\n",
              "      <td>Albania</td>\n",
              "      <td>1987</td>\n",
              "      <td>male</td>\n",
              "      <td>25-34 years</td>\n",
              "      <td>9</td>\n",
              "      <td>274300</td>\n",
              "      <td>3.28</td>\n",
              "      <td>Albania1987</td>\n",
              "      <td>NaN</td>\n",
              "      <td>2156624900</td>\n",
              "      <td>796</td>\n",
              "      <td>Boomers</td>\n",
              "    </tr>\n",
              "    <tr>\n",
              "      <th>...</th>\n",
              "      <td>...</td>\n",
              "      <td>...</td>\n",
              "      <td>...</td>\n",
              "      <td>...</td>\n",
              "      <td>...</td>\n",
              "      <td>...</td>\n",
              "      <td>...</td>\n",
              "      <td>...</td>\n",
              "      <td>...</td>\n",
              "      <td>...</td>\n",
              "      <td>...</td>\n",
              "      <td>...</td>\n",
              "    </tr>\n",
              "    <tr>\n",
              "      <th>27815</th>\n",
              "      <td>Uzbekistan</td>\n",
              "      <td>2014</td>\n",
              "      <td>female</td>\n",
              "      <td>35-54 years</td>\n",
              "      <td>107</td>\n",
              "      <td>3620833</td>\n",
              "      <td>2.96</td>\n",
              "      <td>Uzbekistan2014</td>\n",
              "      <td>0.675</td>\n",
              "      <td>63067077179</td>\n",
              "      <td>2309</td>\n",
              "      <td>Generation X</td>\n",
              "    </tr>\n",
              "    <tr>\n",
              "      <th>27816</th>\n",
              "      <td>Uzbekistan</td>\n",
              "      <td>2014</td>\n",
              "      <td>female</td>\n",
              "      <td>75+ years</td>\n",
              "      <td>9</td>\n",
              "      <td>348465</td>\n",
              "      <td>2.58</td>\n",
              "      <td>Uzbekistan2014</td>\n",
              "      <td>0.675</td>\n",
              "      <td>63067077179</td>\n",
              "      <td>2309</td>\n",
              "      <td>Silent</td>\n",
              "    </tr>\n",
              "    <tr>\n",
              "      <th>27817</th>\n",
              "      <td>Uzbekistan</td>\n",
              "      <td>2014</td>\n",
              "      <td>male</td>\n",
              "      <td>5-14 years</td>\n",
              "      <td>60</td>\n",
              "      <td>2762158</td>\n",
              "      <td>2.17</td>\n",
              "      <td>Uzbekistan2014</td>\n",
              "      <td>0.675</td>\n",
              "      <td>63067077179</td>\n",
              "      <td>2309</td>\n",
              "      <td>Generation Z</td>\n",
              "    </tr>\n",
              "    <tr>\n",
              "      <th>27818</th>\n",
              "      <td>Uzbekistan</td>\n",
              "      <td>2014</td>\n",
              "      <td>female</td>\n",
              "      <td>5-14 years</td>\n",
              "      <td>44</td>\n",
              "      <td>2631600</td>\n",
              "      <td>1.67</td>\n",
              "      <td>Uzbekistan2014</td>\n",
              "      <td>0.675</td>\n",
              "      <td>63067077179</td>\n",
              "      <td>2309</td>\n",
              "      <td>Generation Z</td>\n",
              "    </tr>\n",
              "    <tr>\n",
              "      <th>27819</th>\n",
              "      <td>Uzbekistan</td>\n",
              "      <td>2014</td>\n",
              "      <td>female</td>\n",
              "      <td>55-74 years</td>\n",
              "      <td>21</td>\n",
              "      <td>1438935</td>\n",
              "      <td>1.46</td>\n",
              "      <td>Uzbekistan2014</td>\n",
              "      <td>0.675</td>\n",
              "      <td>63067077179</td>\n",
              "      <td>2309</td>\n",
              "      <td>Boomers</td>\n",
              "    </tr>\n",
              "  </tbody>\n",
              "</table>\n",
              "<p>27820 rows × 12 columns</p>\n",
              "</div>"
            ],
            "text/plain": [
              "          country  year     sex  ...     gdp_year  gdp_capita       generation\n",
              "0         Albania  1987    male  ...   2156624900         796     Generation X\n",
              "1         Albania  1987    male  ...   2156624900         796           Silent\n",
              "2         Albania  1987  female  ...   2156624900         796     Generation X\n",
              "3         Albania  1987    male  ...   2156624900         796  G.I. Generation\n",
              "4         Albania  1987    male  ...   2156624900         796          Boomers\n",
              "...           ...   ...     ...  ...          ...         ...              ...\n",
              "27815  Uzbekistan  2014  female  ...  63067077179        2309     Generation X\n",
              "27816  Uzbekistan  2014  female  ...  63067077179        2309           Silent\n",
              "27817  Uzbekistan  2014    male  ...  63067077179        2309     Generation Z\n",
              "27818  Uzbekistan  2014  female  ...  63067077179        2309     Generation Z\n",
              "27819  Uzbekistan  2014  female  ...  63067077179        2309          Boomers\n",
              "\n",
              "[27820 rows x 12 columns]"
            ]
          },
          "metadata": {
            "tags": []
          },
          "execution_count": 55
        }
      ]
    },
    {
      "cell_type": "code",
      "metadata": {
        "id": "jtSaeSrx9VsZ",
        "colab_type": "code",
        "outputId": "688d61ef-fa8b-4f23-c520-3e8bc7332bad",
        "colab": {
          "base_uri": "https://localhost:8080/",
          "height": 82
        }
      },
      "source": [
        "df.columns"
      ],
      "execution_count": 0,
      "outputs": [
        {
          "output_type": "execute_result",
          "data": {
            "text/plain": [
              "Index(['country', 'year', 'sex', 'age', 'suicides_no', 'population',\n",
              "       'suicides_per_100k', 'country_year', 'HDI for year', 'gdp_year',\n",
              "       'gdp_capita', 'generation'],\n",
              "      dtype='object')"
            ]
          },
          "metadata": {
            "tags": []
          },
          "execution_count": 56
        }
      ]
    },
    {
      "cell_type": "code",
      "metadata": {
        "id": "-ZbWIH3Y-G6C",
        "colab_type": "code",
        "outputId": "435fe020-8aae-411d-d173-99fc0b1a9afd",
        "colab": {
          "base_uri": "https://localhost:8080/",
          "height": 50
        }
      },
      "source": [
        "df['generation'].unique() # Describe qué generaciones existen en la tabla"
      ],
      "execution_count": 0,
      "outputs": [
        {
          "output_type": "execute_result",
          "data": {
            "text/plain": [
              "array(['Generation X', 'Silent', 'G.I. Generation', 'Boomers',\n",
              "       'Millenials', 'Generation Z'], dtype=object)"
            ]
          },
          "metadata": {
            "tags": []
          },
          "execution_count": 57
        }
      ]
    },
    {
      "cell_type": "code",
      "metadata": {
        "id": "gl8T9czs-QZg",
        "colab_type": "code",
        "outputId": "6c7acbb7-8dc8-4f10-a222-6df5a6841c01",
        "colab": {
          "base_uri": "https://localhost:8080/",
          "height": 33
        }
      },
      "source": [
        "df['country'].nunique() # Número de países"
      ],
      "execution_count": 0,
      "outputs": [
        {
          "output_type": "execute_result",
          "data": {
            "text/plain": [
              "101"
            ]
          },
          "metadata": {
            "tags": []
          },
          "execution_count": 58
        }
      ]
    },
    {
      "cell_type": "code",
      "metadata": {
        "id": "fLmLeUrB-TEi",
        "colab_type": "code",
        "outputId": "275ffcb3-4043-4f71-fbd1-2c10cf3382d6",
        "colab": {
          "base_uri": "https://localhost:8080/",
          "height": 375
        }
      },
      "source": [
        "df['country'].unique() # Describe los países"
      ],
      "execution_count": 0,
      "outputs": [
        {
          "output_type": "execute_result",
          "data": {
            "text/plain": [
              "array(['Albania', 'Antigua and Barbuda', 'Argentina', 'Armenia', 'Aruba',\n",
              "       'Australia', 'Austria', 'Azerbaijan', 'Bahamas', 'Bahrain',\n",
              "       'Barbados', 'Belarus', 'Belgium', 'Belize',\n",
              "       'Bosnia and Herzegovina', 'Brazil', 'Bulgaria', 'Cabo Verde',\n",
              "       'Canada', 'Chile', 'Colombia', 'Costa Rica', 'Croatia', 'Cuba',\n",
              "       'Cyprus', 'Czech Republic', 'Denmark', 'Dominica', 'Ecuador',\n",
              "       'El Salvador', 'Estonia', 'Fiji', 'Finland', 'France', 'Georgia',\n",
              "       'Germany', 'Greece', 'Grenada', 'Guatemala', 'Guyana', 'Hungary',\n",
              "       'Iceland', 'Ireland', 'Israel', 'Italy', 'Jamaica', 'Japan',\n",
              "       'Kazakhstan', 'Kiribati', 'Kuwait', 'Kyrgyzstan', 'Latvia',\n",
              "       'Lithuania', 'Luxembourg', 'Macau', 'Maldives', 'Malta',\n",
              "       'Mauritius', 'Mexico', 'Mongolia', 'Montenegro', 'Netherlands',\n",
              "       'New Zealand', 'Nicaragua', 'Norway', 'Oman', 'Panama', 'Paraguay',\n",
              "       'Philippines', 'Poland', 'Portugal', 'Puerto Rico', 'Qatar',\n",
              "       'Republic of Korea', 'Romania', 'Russian Federation',\n",
              "       'Saint Kitts and Nevis', 'Saint Lucia',\n",
              "       'Saint Vincent and Grenadines', 'San Marino', 'Serbia',\n",
              "       'Seychelles', 'Singapore', 'Slovakia', 'Slovenia', 'South Africa',\n",
              "       'Spain', 'Sri Lanka', 'Suriname', 'Sweden', 'Switzerland',\n",
              "       'Thailand', 'Trinidad and Tobago', 'Turkey', 'Turkmenistan',\n",
              "       'Ukraine', 'United Arab Emirates', 'United Kingdom',\n",
              "       'United States', 'Uruguay', 'Uzbekistan'], dtype=object)"
            ]
          },
          "metadata": {
            "tags": []
          },
          "execution_count": 59
        }
      ]
    },
    {
      "cell_type": "code",
      "metadata": {
        "id": "7PmVTm_dBj1-",
        "colab_type": "code",
        "outputId": "70b45e96-d512-477f-ccf8-90917a430fc9",
        "colab": {
          "base_uri": "https://localhost:8080/",
          "height": 66
        }
      },
      "source": [
        "df['year'].unique() "
      ],
      "execution_count": 0,
      "outputs": [
        {
          "output_type": "execute_result",
          "data": {
            "text/plain": [
              "array([1987, 1988, 1989, 1992, 1993, 1994, 1995, 1996, 1997, 1998, 1999,\n",
              "       2000, 2001, 2002, 2003, 2004, 2005, 2006, 2007, 2008, 2009, 2010,\n",
              "       1985, 1986, 1990, 1991, 2012, 2013, 2014, 2015, 2011, 2016])"
            ]
          },
          "metadata": {
            "tags": []
          },
          "execution_count": 60
        }
      ]
    },
    {
      "cell_type": "code",
      "metadata": {
        "id": "7xv5rz3vBfEY",
        "colab_type": "code",
        "outputId": "9daa73f6-f584-4238-a10b-7fcb2502b25c",
        "colab": {
          "base_uri": "https://localhost:8080/",
          "height": 50
        }
      },
      "source": [
        "df['age'].unique() "
      ],
      "execution_count": 0,
      "outputs": [
        {
          "output_type": "execute_result",
          "data": {
            "text/plain": [
              "array(['15-24 years', '35-54 years', '75+ years', '25-34 years',\n",
              "       '55-74 years', '5-14 years'], dtype=object)"
            ]
          },
          "metadata": {
            "tags": []
          },
          "execution_count": 61
        }
      ]
    },
    {
      "cell_type": "code",
      "metadata": {
        "id": "kdj9uUeh-vC7",
        "colab_type": "code",
        "outputId": "5f92a85c-d6cd-49ec-ca24-e7060ac06541",
        "colab": {
          "base_uri": "https://localhost:8080/",
          "height": 416
        }
      },
      "source": [
        "df.describe(include = 'all')"
      ],
      "execution_count": 0,
      "outputs": [
        {
          "output_type": "execute_result",
          "data": {
            "text/html": [
              "<div>\n",
              "<style scoped>\n",
              "    .dataframe tbody tr th:only-of-type {\n",
              "        vertical-align: middle;\n",
              "    }\n",
              "\n",
              "    .dataframe tbody tr th {\n",
              "        vertical-align: top;\n",
              "    }\n",
              "\n",
              "    .dataframe thead th {\n",
              "        text-align: right;\n",
              "    }\n",
              "</style>\n",
              "<table border=\"1\" class=\"dataframe\">\n",
              "  <thead>\n",
              "    <tr style=\"text-align: right;\">\n",
              "      <th></th>\n",
              "      <th>country</th>\n",
              "      <th>year</th>\n",
              "      <th>sex</th>\n",
              "      <th>age</th>\n",
              "      <th>suicides_no</th>\n",
              "      <th>population</th>\n",
              "      <th>suicides_per_100k</th>\n",
              "      <th>country_year</th>\n",
              "      <th>HDI for year</th>\n",
              "      <th>gdp_year</th>\n",
              "      <th>gdp_capita</th>\n",
              "      <th>generation</th>\n",
              "    </tr>\n",
              "  </thead>\n",
              "  <tbody>\n",
              "    <tr>\n",
              "      <th>count</th>\n",
              "      <td>27820</td>\n",
              "      <td>27820.000000</td>\n",
              "      <td>27820</td>\n",
              "      <td>27820</td>\n",
              "      <td>27820.000000</td>\n",
              "      <td>2.782000e+04</td>\n",
              "      <td>27820.000000</td>\n",
              "      <td>27820</td>\n",
              "      <td>8364.000000</td>\n",
              "      <td>2.782000e+04</td>\n",
              "      <td>27820.000000</td>\n",
              "      <td>27820</td>\n",
              "    </tr>\n",
              "    <tr>\n",
              "      <th>unique</th>\n",
              "      <td>101</td>\n",
              "      <td>NaN</td>\n",
              "      <td>2</td>\n",
              "      <td>6</td>\n",
              "      <td>NaN</td>\n",
              "      <td>NaN</td>\n",
              "      <td>NaN</td>\n",
              "      <td>2321</td>\n",
              "      <td>NaN</td>\n",
              "      <td>NaN</td>\n",
              "      <td>NaN</td>\n",
              "      <td>6</td>\n",
              "    </tr>\n",
              "    <tr>\n",
              "      <th>top</th>\n",
              "      <td>Mauritius</td>\n",
              "      <td>NaN</td>\n",
              "      <td>female</td>\n",
              "      <td>55-74 years</td>\n",
              "      <td>NaN</td>\n",
              "      <td>NaN</td>\n",
              "      <td>NaN</td>\n",
              "      <td>El Salvador2006</td>\n",
              "      <td>NaN</td>\n",
              "      <td>NaN</td>\n",
              "      <td>NaN</td>\n",
              "      <td>Generation X</td>\n",
              "    </tr>\n",
              "    <tr>\n",
              "      <th>freq</th>\n",
              "      <td>382</td>\n",
              "      <td>NaN</td>\n",
              "      <td>13910</td>\n",
              "      <td>4642</td>\n",
              "      <td>NaN</td>\n",
              "      <td>NaN</td>\n",
              "      <td>NaN</td>\n",
              "      <td>12</td>\n",
              "      <td>NaN</td>\n",
              "      <td>NaN</td>\n",
              "      <td>NaN</td>\n",
              "      <td>6408</td>\n",
              "    </tr>\n",
              "    <tr>\n",
              "      <th>mean</th>\n",
              "      <td>NaN</td>\n",
              "      <td>2001.258375</td>\n",
              "      <td>NaN</td>\n",
              "      <td>NaN</td>\n",
              "      <td>242.574407</td>\n",
              "      <td>1.844794e+06</td>\n",
              "      <td>12.816097</td>\n",
              "      <td>NaN</td>\n",
              "      <td>0.776601</td>\n",
              "      <td>4.455810e+11</td>\n",
              "      <td>16866.464414</td>\n",
              "      <td>NaN</td>\n",
              "    </tr>\n",
              "    <tr>\n",
              "      <th>std</th>\n",
              "      <td>NaN</td>\n",
              "      <td>8.469055</td>\n",
              "      <td>NaN</td>\n",
              "      <td>NaN</td>\n",
              "      <td>902.047917</td>\n",
              "      <td>3.911779e+06</td>\n",
              "      <td>18.961511</td>\n",
              "      <td>NaN</td>\n",
              "      <td>0.093367</td>\n",
              "      <td>1.453610e+12</td>\n",
              "      <td>18887.576472</td>\n",
              "      <td>NaN</td>\n",
              "    </tr>\n",
              "    <tr>\n",
              "      <th>min</th>\n",
              "      <td>NaN</td>\n",
              "      <td>1985.000000</td>\n",
              "      <td>NaN</td>\n",
              "      <td>NaN</td>\n",
              "      <td>0.000000</td>\n",
              "      <td>2.780000e+02</td>\n",
              "      <td>0.000000</td>\n",
              "      <td>NaN</td>\n",
              "      <td>0.483000</td>\n",
              "      <td>4.691962e+07</td>\n",
              "      <td>251.000000</td>\n",
              "      <td>NaN</td>\n",
              "    </tr>\n",
              "    <tr>\n",
              "      <th>25%</th>\n",
              "      <td>NaN</td>\n",
              "      <td>1995.000000</td>\n",
              "      <td>NaN</td>\n",
              "      <td>NaN</td>\n",
              "      <td>3.000000</td>\n",
              "      <td>9.749850e+04</td>\n",
              "      <td>0.920000</td>\n",
              "      <td>NaN</td>\n",
              "      <td>0.713000</td>\n",
              "      <td>8.985353e+09</td>\n",
              "      <td>3447.000000</td>\n",
              "      <td>NaN</td>\n",
              "    </tr>\n",
              "    <tr>\n",
              "      <th>50%</th>\n",
              "      <td>NaN</td>\n",
              "      <td>2002.000000</td>\n",
              "      <td>NaN</td>\n",
              "      <td>NaN</td>\n",
              "      <td>25.000000</td>\n",
              "      <td>4.301500e+05</td>\n",
              "      <td>5.990000</td>\n",
              "      <td>NaN</td>\n",
              "      <td>0.779000</td>\n",
              "      <td>4.811469e+10</td>\n",
              "      <td>9372.000000</td>\n",
              "      <td>NaN</td>\n",
              "    </tr>\n",
              "    <tr>\n",
              "      <th>75%</th>\n",
              "      <td>NaN</td>\n",
              "      <td>2008.000000</td>\n",
              "      <td>NaN</td>\n",
              "      <td>NaN</td>\n",
              "      <td>131.000000</td>\n",
              "      <td>1.486143e+06</td>\n",
              "      <td>16.620000</td>\n",
              "      <td>NaN</td>\n",
              "      <td>0.855000</td>\n",
              "      <td>2.602024e+11</td>\n",
              "      <td>24874.000000</td>\n",
              "      <td>NaN</td>\n",
              "    </tr>\n",
              "    <tr>\n",
              "      <th>max</th>\n",
              "      <td>NaN</td>\n",
              "      <td>2016.000000</td>\n",
              "      <td>NaN</td>\n",
              "      <td>NaN</td>\n",
              "      <td>22338.000000</td>\n",
              "      <td>4.380521e+07</td>\n",
              "      <td>224.970000</td>\n",
              "      <td>NaN</td>\n",
              "      <td>0.944000</td>\n",
              "      <td>1.812071e+13</td>\n",
              "      <td>126352.000000</td>\n",
              "      <td>NaN</td>\n",
              "    </tr>\n",
              "  </tbody>\n",
              "</table>\n",
              "</div>"
            ],
            "text/plain": [
              "          country          year  ...     gdp_capita    generation\n",
              "count       27820  27820.000000  ...   27820.000000         27820\n",
              "unique        101           NaN  ...            NaN             6\n",
              "top     Mauritius           NaN  ...            NaN  Generation X\n",
              "freq          382           NaN  ...            NaN          6408\n",
              "mean          NaN   2001.258375  ...   16866.464414           NaN\n",
              "std           NaN      8.469055  ...   18887.576472           NaN\n",
              "min           NaN   1985.000000  ...     251.000000           NaN\n",
              "25%           NaN   1995.000000  ...    3447.000000           NaN\n",
              "50%           NaN   2002.000000  ...    9372.000000           NaN\n",
              "75%           NaN   2008.000000  ...   24874.000000           NaN\n",
              "max           NaN   2016.000000  ...  126352.000000           NaN\n",
              "\n",
              "[11 rows x 12 columns]"
            ]
          },
          "metadata": {
            "tags": []
          },
          "execution_count": 62
        }
      ]
    },
    {
      "cell_type": "code",
      "metadata": {
        "id": "WdztRnTS-1xf",
        "colab_type": "code",
        "colab": {}
      },
      "source": [
        "import pandas as pd\n",
        "\n",
        "def mem_usage(df: pd.DataFrame) -> str:\n",
        "    \"\"\"El método memory_usage()que analiza el consumo de memoria de un marco de datos. \n",
        "    En el código, deep=Truese especifica para asegurarse de que se tenga en cuenta el uso real del sistema.\n",
        "    \"\"\"\n",
        "    return f'{df.memory_usage(deep=True).sum() / 1024 ** 2 : 3.2f} MB '\n",
        "\n",
        "\n",
        "def convert_df(df: pd.DataFrame, deep_copy: bool = True) -> pd.DataFrame:\n",
        "    \"\"\"Convierte automáticamente el tipo de columna a categorysi menos del 50% de los valores en la columna son únicos. \n",
        "    \"\"\"\n",
        "    return df.copy(deep=deep_copy).astype({\n",
        "        col: 'category' for col in df.columns\n",
        "        if df[col].nunique() / df[col].shape[0] < 0.5})"
      ],
      "execution_count": 0,
      "outputs": []
    },
    {
      "cell_type": "code",
      "metadata": {
        "id": "naSRrHMZ_es4",
        "colab_type": "code",
        "outputId": "45502a61-ddb5-4394-a6ca-6d45591347a8",
        "colab": {
          "base_uri": "https://localhost:8080/",
          "height": 33
        }
      },
      "source": [
        "mem_usage(df)"
      ],
      "execution_count": 0,
      "outputs": [
        {
          "output_type": "execute_result",
          "data": {
            "text/plain": [
              "' 10.28 MB '"
            ]
          },
          "metadata": {
            "tags": []
          },
          "execution_count": 64
        }
      ]
    },
    {
      "cell_type": "code",
      "metadata": {
        "id": "rD0dxNUZAXLj",
        "colab_type": "code",
        "outputId": "4b12d153-cb44-4353-ba21-f9d4f2fa714b",
        "colab": {
          "base_uri": "https://localhost:8080/",
          "height": 33
        }
      },
      "source": [
        "mem_usage(df.set_index(['country', 'year', 'sex', 'age']))"
      ],
      "execution_count": 0,
      "outputs": [
        {
          "output_type": "execute_result",
          "data": {
            "text/plain": [
              "' 5.00 MB '"
            ]
          },
          "metadata": {
            "tags": []
          },
          "execution_count": 65
        }
      ]
    },
    {
      "cell_type": "code",
      "metadata": {
        "id": "kYu4_lIUAckZ",
        "colab_type": "code",
        "outputId": "d7216992-fd31-4e5c-b75e-c202fb837183",
        "colab": {
          "base_uri": "https://localhost:8080/",
          "height": 33
        }
      },
      "source": [
        "mem_usage(convert_df(df))"
      ],
      "execution_count": 0,
      "outputs": [
        {
          "output_type": "execute_result",
          "data": {
            "text/plain": [
              "' 1.40 MB '"
            ]
          },
          "metadata": {
            "tags": []
          },
          "execution_count": 66
        }
      ]
    },
    {
      "cell_type": "code",
      "metadata": {
        "id": "skxR8VJ0Apdk",
        "colab_type": "code",
        "outputId": "3877f4d5-a869-462b-d417-a0b86ec3d3fe",
        "colab": {
          "base_uri": "https://localhost:8080/",
          "height": 33
        }
      },
      "source": [
        "mem_usage(convert_df(df.set_index(['country', 'year', 'sex', 'age'])))"
      ],
      "execution_count": 0,
      "outputs": [
        {
          "output_type": "execute_result",
          "data": {
            "text/plain": [
              "' 1.40 MB '"
            ]
          },
          "metadata": {
            "tags": []
          },
          "execution_count": 67
        }
      ]
    },
    {
      "cell_type": "code",
      "metadata": {
        "id": "p3bR6Y2AAsjr",
        "colab_type": "code",
        "outputId": "5b6260cd-0b9f-4493-e5e2-fbc242eecaf9",
        "colab": {
          "base_uri": "https://localhost:8080/",
          "height": 108
        }
      },
      "source": [
        "%%time\n",
        "df.query('country == \"Albania\" and year == 1987 and sex == \"male\" and age == \"25-34 years\"')"
      ],
      "execution_count": 0,
      "outputs": [
        {
          "output_type": "stream",
          "text": [
            "CPU times: user 12.8 ms, sys: 0 ns, total: 12.8 ms\n",
            "Wall time: 20.8 ms\n"
          ],
          "name": "stdout"
        },
        {
          "output_type": "execute_result",
          "data": {
            "text/html": [
              "<div>\n",
              "<style scoped>\n",
              "    .dataframe tbody tr th:only-of-type {\n",
              "        vertical-align: middle;\n",
              "    }\n",
              "\n",
              "    .dataframe tbody tr th {\n",
              "        vertical-align: top;\n",
              "    }\n",
              "\n",
              "    .dataframe thead th {\n",
              "        text-align: right;\n",
              "    }\n",
              "</style>\n",
              "<table border=\"1\" class=\"dataframe\">\n",
              "  <thead>\n",
              "    <tr style=\"text-align: right;\">\n",
              "      <th></th>\n",
              "      <th>country</th>\n",
              "      <th>year</th>\n",
              "      <th>sex</th>\n",
              "      <th>age</th>\n",
              "      <th>suicides_no</th>\n",
              "      <th>population</th>\n",
              "      <th>suicides_per_100k</th>\n",
              "      <th>country_year</th>\n",
              "      <th>HDI for year</th>\n",
              "      <th>gdp_year</th>\n",
              "      <th>gdp_capita</th>\n",
              "      <th>generation</th>\n",
              "    </tr>\n",
              "  </thead>\n",
              "  <tbody>\n",
              "    <tr>\n",
              "      <th>4</th>\n",
              "      <td>Albania</td>\n",
              "      <td>1987</td>\n",
              "      <td>male</td>\n",
              "      <td>25-34 years</td>\n",
              "      <td>9</td>\n",
              "      <td>274300</td>\n",
              "      <td>3.28</td>\n",
              "      <td>Albania1987</td>\n",
              "      <td>NaN</td>\n",
              "      <td>2156624900</td>\n",
              "      <td>796</td>\n",
              "      <td>Boomers</td>\n",
              "    </tr>\n",
              "  </tbody>\n",
              "</table>\n",
              "</div>"
            ],
            "text/plain": [
              "   country  year   sex  ...    gdp_year  gdp_capita  generation\n",
              "4  Albania  1987  male  ...  2156624900         796     Boomers\n",
              "\n",
              "[1 rows x 12 columns]"
            ]
          },
          "metadata": {
            "tags": []
          },
          "execution_count": 68
        }
      ]
    },
    {
      "cell_type": "code",
      "metadata": {
        "id": "x3k20OoyB3oe",
        "colab_type": "code",
        "outputId": "7b189563-64e8-4d12-cb04-d1cae8e3e067",
        "colab": {
          "base_uri": "https://localhost:8080/",
          "height": 50
        }
      },
      "source": [
        "%%time\n",
        "mi_df = df.set_index(['country', 'year', 'sex', 'age'])"
      ],
      "execution_count": 0,
      "outputs": [
        {
          "output_type": "stream",
          "text": [
            "CPU times: user 18.8 ms, sys: 0 ns, total: 18.8 ms\n",
            "Wall time: 21.2 ms\n"
          ],
          "name": "stdout"
        }
      ]
    },
    {
      "cell_type": "code",
      "metadata": {
        "id": "G3mFaHWmB6Nl",
        "colab_type": "code",
        "outputId": "eb416412-3dd4-47b9-c057-ce9ce5466de8",
        "colab": {
          "base_uri": "https://localhost:8080/",
          "height": 420
        }
      },
      "source": [
        "mi_df"
      ],
      "execution_count": 0,
      "outputs": [
        {
          "output_type": "execute_result",
          "data": {
            "text/html": [
              "<div>\n",
              "<style scoped>\n",
              "    .dataframe tbody tr th:only-of-type {\n",
              "        vertical-align: middle;\n",
              "    }\n",
              "\n",
              "    .dataframe tbody tr th {\n",
              "        vertical-align: top;\n",
              "    }\n",
              "\n",
              "    .dataframe thead th {\n",
              "        text-align: right;\n",
              "    }\n",
              "</style>\n",
              "<table border=\"1\" class=\"dataframe\">\n",
              "  <thead>\n",
              "    <tr style=\"text-align: right;\">\n",
              "      <th></th>\n",
              "      <th></th>\n",
              "      <th></th>\n",
              "      <th></th>\n",
              "      <th>suicides_no</th>\n",
              "      <th>population</th>\n",
              "      <th>suicides_per_100k</th>\n",
              "      <th>country_year</th>\n",
              "      <th>HDI for year</th>\n",
              "      <th>gdp_year</th>\n",
              "      <th>gdp_capita</th>\n",
              "      <th>generation</th>\n",
              "    </tr>\n",
              "    <tr>\n",
              "      <th>country</th>\n",
              "      <th>year</th>\n",
              "      <th>sex</th>\n",
              "      <th>age</th>\n",
              "      <th></th>\n",
              "      <th></th>\n",
              "      <th></th>\n",
              "      <th></th>\n",
              "      <th></th>\n",
              "      <th></th>\n",
              "      <th></th>\n",
              "      <th></th>\n",
              "    </tr>\n",
              "  </thead>\n",
              "  <tbody>\n",
              "    <tr>\n",
              "      <th rowspan=\"5\" valign=\"top\">Albania</th>\n",
              "      <th rowspan=\"5\" valign=\"top\">1987</th>\n",
              "      <th rowspan=\"2\" valign=\"top\">male</th>\n",
              "      <th>15-24 years</th>\n",
              "      <td>21</td>\n",
              "      <td>312900</td>\n",
              "      <td>6.71</td>\n",
              "      <td>Albania1987</td>\n",
              "      <td>NaN</td>\n",
              "      <td>2156624900</td>\n",
              "      <td>796</td>\n",
              "      <td>Generation X</td>\n",
              "    </tr>\n",
              "    <tr>\n",
              "      <th>35-54 years</th>\n",
              "      <td>16</td>\n",
              "      <td>308000</td>\n",
              "      <td>5.19</td>\n",
              "      <td>Albania1987</td>\n",
              "      <td>NaN</td>\n",
              "      <td>2156624900</td>\n",
              "      <td>796</td>\n",
              "      <td>Silent</td>\n",
              "    </tr>\n",
              "    <tr>\n",
              "      <th>female</th>\n",
              "      <th>15-24 years</th>\n",
              "      <td>14</td>\n",
              "      <td>289700</td>\n",
              "      <td>4.83</td>\n",
              "      <td>Albania1987</td>\n",
              "      <td>NaN</td>\n",
              "      <td>2156624900</td>\n",
              "      <td>796</td>\n",
              "      <td>Generation X</td>\n",
              "    </tr>\n",
              "    <tr>\n",
              "      <th rowspan=\"2\" valign=\"top\">male</th>\n",
              "      <th>75+ years</th>\n",
              "      <td>1</td>\n",
              "      <td>21800</td>\n",
              "      <td>4.59</td>\n",
              "      <td>Albania1987</td>\n",
              "      <td>NaN</td>\n",
              "      <td>2156624900</td>\n",
              "      <td>796</td>\n",
              "      <td>G.I. Generation</td>\n",
              "    </tr>\n",
              "    <tr>\n",
              "      <th>25-34 years</th>\n",
              "      <td>9</td>\n",
              "      <td>274300</td>\n",
              "      <td>3.28</td>\n",
              "      <td>Albania1987</td>\n",
              "      <td>NaN</td>\n",
              "      <td>2156624900</td>\n",
              "      <td>796</td>\n",
              "      <td>Boomers</td>\n",
              "    </tr>\n",
              "    <tr>\n",
              "      <th>...</th>\n",
              "      <th>...</th>\n",
              "      <th>...</th>\n",
              "      <th>...</th>\n",
              "      <td>...</td>\n",
              "      <td>...</td>\n",
              "      <td>...</td>\n",
              "      <td>...</td>\n",
              "      <td>...</td>\n",
              "      <td>...</td>\n",
              "      <td>...</td>\n",
              "      <td>...</td>\n",
              "    </tr>\n",
              "    <tr>\n",
              "      <th rowspan=\"5\" valign=\"top\">Uzbekistan</th>\n",
              "      <th rowspan=\"5\" valign=\"top\">2014</th>\n",
              "      <th rowspan=\"2\" valign=\"top\">female</th>\n",
              "      <th>35-54 years</th>\n",
              "      <td>107</td>\n",
              "      <td>3620833</td>\n",
              "      <td>2.96</td>\n",
              "      <td>Uzbekistan2014</td>\n",
              "      <td>0.675</td>\n",
              "      <td>63067077179</td>\n",
              "      <td>2309</td>\n",
              "      <td>Generation X</td>\n",
              "    </tr>\n",
              "    <tr>\n",
              "      <th>75+ years</th>\n",
              "      <td>9</td>\n",
              "      <td>348465</td>\n",
              "      <td>2.58</td>\n",
              "      <td>Uzbekistan2014</td>\n",
              "      <td>0.675</td>\n",
              "      <td>63067077179</td>\n",
              "      <td>2309</td>\n",
              "      <td>Silent</td>\n",
              "    </tr>\n",
              "    <tr>\n",
              "      <th>male</th>\n",
              "      <th>5-14 years</th>\n",
              "      <td>60</td>\n",
              "      <td>2762158</td>\n",
              "      <td>2.17</td>\n",
              "      <td>Uzbekistan2014</td>\n",
              "      <td>0.675</td>\n",
              "      <td>63067077179</td>\n",
              "      <td>2309</td>\n",
              "      <td>Generation Z</td>\n",
              "    </tr>\n",
              "    <tr>\n",
              "      <th rowspan=\"2\" valign=\"top\">female</th>\n",
              "      <th>5-14 years</th>\n",
              "      <td>44</td>\n",
              "      <td>2631600</td>\n",
              "      <td>1.67</td>\n",
              "      <td>Uzbekistan2014</td>\n",
              "      <td>0.675</td>\n",
              "      <td>63067077179</td>\n",
              "      <td>2309</td>\n",
              "      <td>Generation Z</td>\n",
              "    </tr>\n",
              "    <tr>\n",
              "      <th>55-74 years</th>\n",
              "      <td>21</td>\n",
              "      <td>1438935</td>\n",
              "      <td>1.46</td>\n",
              "      <td>Uzbekistan2014</td>\n",
              "      <td>0.675</td>\n",
              "      <td>63067077179</td>\n",
              "      <td>2309</td>\n",
              "      <td>Boomers</td>\n",
              "    </tr>\n",
              "  </tbody>\n",
              "</table>\n",
              "<p>27820 rows × 8 columns</p>\n",
              "</div>"
            ],
            "text/plain": [
              "                                    suicides_no  ...       generation\n",
              "country    year sex    age                       ...                 \n",
              "Albania    1987 male   15-24 years           21  ...     Generation X\n",
              "                       35-54 years           16  ...           Silent\n",
              "                female 15-24 years           14  ...     Generation X\n",
              "                male   75+ years              1  ...  G.I. Generation\n",
              "                       25-34 years            9  ...          Boomers\n",
              "...                                         ...  ...              ...\n",
              "Uzbekistan 2014 female 35-54 years          107  ...     Generation X\n",
              "                       75+ years              9  ...           Silent\n",
              "                male   5-14 years            60  ...     Generation Z\n",
              "                female 5-14 years            44  ...     Generation Z\n",
              "                       55-74 years           21  ...          Boomers\n",
              "\n",
              "[27820 rows x 8 columns]"
            ]
          },
          "metadata": {
            "tags": []
          },
          "execution_count": 70
        }
      ]
    },
    {
      "cell_type": "code",
      "metadata": {
        "id": "qjz8exoTBPLm",
        "colab_type": "code",
        "outputId": "0bd6d49e-88f0-420b-e398-a061bf1de789",
        "colab": {
          "base_uri": "https://localhost:8080/",
          "height": 196
        }
      },
      "source": [
        "%%time\n",
        "mi_df.loc['Albania', 1987, 'male', '25-34 years']"
      ],
      "execution_count": 0,
      "outputs": [
        {
          "output_type": "stream",
          "text": [
            "CPU times: user 3.66 ms, sys: 93 µs, total: 3.75 ms\n",
            "Wall time: 3.42 ms\n"
          ],
          "name": "stdout"
        },
        {
          "output_type": "execute_result",
          "data": {
            "text/plain": [
              "suicides_no                    9\n",
              "population                274300\n",
              "suicides_per_100k           3.28\n",
              "country_year         Albania1987\n",
              "HDI for year                 NaN\n",
              "gdp_year              2156624900\n",
              "gdp_capita                   796\n",
              "generation               Boomers\n",
              "Name: (Albania, 1987, male, 25-34 years), dtype: object"
            ]
          },
          "metadata": {
            "tags": []
          },
          "execution_count": 71
        }
      ]
    },
    {
      "cell_type": "code",
      "metadata": {
        "id": "sxH8TL0ABv4k",
        "colab_type": "code",
        "outputId": "4e606d33-e19b-4836-8f72-58c2876b459f",
        "colab": {
          "base_uri": "https://localhost:8080/",
          "height": 452
        }
      },
      "source": [
        "%%time\n",
        "mi_df.sort_index()"
      ],
      "execution_count": 0,
      "outputs": [
        {
          "output_type": "stream",
          "text": [
            "CPU times: user 51.1 ms, sys: 1.05 ms, total: 52.2 ms\n",
            "Wall time: 57.6 ms\n"
          ],
          "name": "stdout"
        },
        {
          "output_type": "execute_result",
          "data": {
            "text/html": [
              "<div>\n",
              "<style scoped>\n",
              "    .dataframe tbody tr th:only-of-type {\n",
              "        vertical-align: middle;\n",
              "    }\n",
              "\n",
              "    .dataframe tbody tr th {\n",
              "        vertical-align: top;\n",
              "    }\n",
              "\n",
              "    .dataframe thead th {\n",
              "        text-align: right;\n",
              "    }\n",
              "</style>\n",
              "<table border=\"1\" class=\"dataframe\">\n",
              "  <thead>\n",
              "    <tr style=\"text-align: right;\">\n",
              "      <th></th>\n",
              "      <th></th>\n",
              "      <th></th>\n",
              "      <th></th>\n",
              "      <th>suicides_no</th>\n",
              "      <th>population</th>\n",
              "      <th>suicides_per_100k</th>\n",
              "      <th>country_year</th>\n",
              "      <th>HDI for year</th>\n",
              "      <th>gdp_year</th>\n",
              "      <th>gdp_capita</th>\n",
              "      <th>generation</th>\n",
              "    </tr>\n",
              "    <tr>\n",
              "      <th>country</th>\n",
              "      <th>year</th>\n",
              "      <th>sex</th>\n",
              "      <th>age</th>\n",
              "      <th></th>\n",
              "      <th></th>\n",
              "      <th></th>\n",
              "      <th></th>\n",
              "      <th></th>\n",
              "      <th></th>\n",
              "      <th></th>\n",
              "      <th></th>\n",
              "    </tr>\n",
              "  </thead>\n",
              "  <tbody>\n",
              "    <tr>\n",
              "      <th rowspan=\"5\" valign=\"top\">Albania</th>\n",
              "      <th rowspan=\"5\" valign=\"top\">1987</th>\n",
              "      <th rowspan=\"5\" valign=\"top\">female</th>\n",
              "      <th>15-24 years</th>\n",
              "      <td>14</td>\n",
              "      <td>289700</td>\n",
              "      <td>4.83</td>\n",
              "      <td>Albania1987</td>\n",
              "      <td>NaN</td>\n",
              "      <td>2156624900</td>\n",
              "      <td>796</td>\n",
              "      <td>Generation X</td>\n",
              "    </tr>\n",
              "    <tr>\n",
              "      <th>25-34 years</th>\n",
              "      <td>4</td>\n",
              "      <td>257200</td>\n",
              "      <td>1.56</td>\n",
              "      <td>Albania1987</td>\n",
              "      <td>NaN</td>\n",
              "      <td>2156624900</td>\n",
              "      <td>796</td>\n",
              "      <td>Boomers</td>\n",
              "    </tr>\n",
              "    <tr>\n",
              "      <th>35-54 years</th>\n",
              "      <td>6</td>\n",
              "      <td>278800</td>\n",
              "      <td>2.15</td>\n",
              "      <td>Albania1987</td>\n",
              "      <td>NaN</td>\n",
              "      <td>2156624900</td>\n",
              "      <td>796</td>\n",
              "      <td>Silent</td>\n",
              "    </tr>\n",
              "    <tr>\n",
              "      <th>5-14 years</th>\n",
              "      <td>0</td>\n",
              "      <td>311000</td>\n",
              "      <td>0.00</td>\n",
              "      <td>Albania1987</td>\n",
              "      <td>NaN</td>\n",
              "      <td>2156624900</td>\n",
              "      <td>796</td>\n",
              "      <td>Generation X</td>\n",
              "    </tr>\n",
              "    <tr>\n",
              "      <th>55-74 years</th>\n",
              "      <td>0</td>\n",
              "      <td>144600</td>\n",
              "      <td>0.00</td>\n",
              "      <td>Albania1987</td>\n",
              "      <td>NaN</td>\n",
              "      <td>2156624900</td>\n",
              "      <td>796</td>\n",
              "      <td>G.I. Generation</td>\n",
              "    </tr>\n",
              "    <tr>\n",
              "      <th>...</th>\n",
              "      <th>...</th>\n",
              "      <th>...</th>\n",
              "      <th>...</th>\n",
              "      <td>...</td>\n",
              "      <td>...</td>\n",
              "      <td>...</td>\n",
              "      <td>...</td>\n",
              "      <td>...</td>\n",
              "      <td>...</td>\n",
              "      <td>...</td>\n",
              "      <td>...</td>\n",
              "    </tr>\n",
              "    <tr>\n",
              "      <th rowspan=\"5\" valign=\"top\">Uzbekistan</th>\n",
              "      <th rowspan=\"5\" valign=\"top\">2014</th>\n",
              "      <th rowspan=\"5\" valign=\"top\">male</th>\n",
              "      <th>25-34 years</th>\n",
              "      <td>318</td>\n",
              "      <td>2739150</td>\n",
              "      <td>11.61</td>\n",
              "      <td>Uzbekistan2014</td>\n",
              "      <td>0.675</td>\n",
              "      <td>63067077179</td>\n",
              "      <td>2309</td>\n",
              "      <td>Millenials</td>\n",
              "    </tr>\n",
              "    <tr>\n",
              "      <th>35-54 years</th>\n",
              "      <td>519</td>\n",
              "      <td>3421300</td>\n",
              "      <td>15.17</td>\n",
              "      <td>Uzbekistan2014</td>\n",
              "      <td>0.675</td>\n",
              "      <td>63067077179</td>\n",
              "      <td>2309</td>\n",
              "      <td>Generation X</td>\n",
              "    </tr>\n",
              "    <tr>\n",
              "      <th>5-14 years</th>\n",
              "      <td>60</td>\n",
              "      <td>2762158</td>\n",
              "      <td>2.17</td>\n",
              "      <td>Uzbekistan2014</td>\n",
              "      <td>0.675</td>\n",
              "      <td>63067077179</td>\n",
              "      <td>2309</td>\n",
              "      <td>Generation Z</td>\n",
              "    </tr>\n",
              "    <tr>\n",
              "      <th>55-74 years</th>\n",
              "      <td>144</td>\n",
              "      <td>1271111</td>\n",
              "      <td>11.33</td>\n",
              "      <td>Uzbekistan2014</td>\n",
              "      <td>0.675</td>\n",
              "      <td>63067077179</td>\n",
              "      <td>2309</td>\n",
              "      <td>Boomers</td>\n",
              "    </tr>\n",
              "    <tr>\n",
              "      <th>75+ years</th>\n",
              "      <td>17</td>\n",
              "      <td>224995</td>\n",
              "      <td>7.56</td>\n",
              "      <td>Uzbekistan2014</td>\n",
              "      <td>0.675</td>\n",
              "      <td>63067077179</td>\n",
              "      <td>2309</td>\n",
              "      <td>Silent</td>\n",
              "    </tr>\n",
              "  </tbody>\n",
              "</table>\n",
              "<p>27820 rows × 8 columns</p>\n",
              "</div>"
            ],
            "text/plain": [
              "                                    suicides_no  ...       generation\n",
              "country    year sex    age                       ...                 \n",
              "Albania    1987 female 15-24 years           14  ...     Generation X\n",
              "                       25-34 years            4  ...          Boomers\n",
              "                       35-54 years            6  ...           Silent\n",
              "                       5-14 years             0  ...     Generation X\n",
              "                       55-74 years            0  ...  G.I. Generation\n",
              "...                                         ...  ...              ...\n",
              "Uzbekistan 2014 male   25-34 years          318  ...       Millenials\n",
              "                       35-54 years          519  ...     Generation X\n",
              "                       5-14 years            60  ...     Generation Z\n",
              "                       55-74 years          144  ...          Boomers\n",
              "                       75+ years             17  ...           Silent\n",
              "\n",
              "[27820 rows x 8 columns]"
            ]
          },
          "metadata": {
            "tags": []
          },
          "execution_count": 72
        }
      ]
    },
    {
      "cell_type": "code",
      "metadata": {
        "id": "OT1WSbtBCyTI",
        "colab_type": "code",
        "outputId": "8b07c44d-a664-4a0a-8828-1e6daf13bfe5",
        "colab": {
          "base_uri": "https://localhost:8080/",
          "height": 33
        }
      },
      "source": [
        "mi_df.index.is_monotonic"
      ],
      "execution_count": 0,
      "outputs": [
        {
          "output_type": "execute_result",
          "data": {
            "text/plain": [
              "False"
            ]
          },
          "metadata": {
            "tags": []
          },
          "execution_count": 73
        }
      ]
    },
    {
      "cell_type": "code",
      "metadata": {
        "id": "yFQ2b0ioDKZ0",
        "colab_type": "code",
        "colab": {}
      },
      "source": [
        "import numpy as np\n",
        "import pandas as pd\n",
        "\n",
        "df = pd.DataFrame({'a_column': [1, -999, -999],\n",
        "                    'powerless_column': [2, 3, 4],\n",
        "                    'int_column': [1, 1, -1]})\n",
        "df"
      ],
      "execution_count": 0,
      "outputs": []
    },
    {
      "cell_type": "code",
      "metadata": {
        "id": "dX8ak9aeDxW1",
        "colab_type": "code",
        "colab": {}
      },
      "source": [
        "df['a_column'] = df['a_column'].replace(-999, np.nan)\n",
        "df"
      ],
      "execution_count": 0,
      "outputs": []
    },
    {
      "cell_type": "code",
      "metadata": {
        "id": "K23zklBfD2be",
        "colab_type": "code",
        "colab": {}
      },
      "source": [
        "df['power_column'] = df['powerless_column'] ** 2\n",
        "df"
      ],
      "execution_count": 0,
      "outputs": []
    },
    {
      "cell_type": "code",
      "metadata": {
        "id": "tG9KkqZIEBdp",
        "colab_type": "code",
        "colab": {}
      },
      "source": [
        "df['real_column'] = df['int_column'].astype(np.float64)\n",
        "df"
      ],
      "execution_count": 0,
      "outputs": []
    },
    {
      "cell_type": "code",
      "metadata": {
        "id": "oXlPw4OyEHjw",
        "colab_type": "code",
        "colab": {}
      },
      "source": [
        "df = df.apply(lambda _df: _df.replace(4, np.nan))\n",
        "df"
      ],
      "execution_count": 0,
      "outputs": []
    },
    {
      "cell_type": "code",
      "metadata": {
        "id": "Cbz1_d3yEL4G",
        "colab_type": "code",
        "colab": {}
      },
      "source": [
        "df = df.dropna(how='all')\n",
        "df"
      ],
      "execution_count": 0,
      "outputs": []
    },
    {
      "cell_type": "code",
      "metadata": {
        "id": "SRBE1yCWEMq3",
        "colab_type": "code",
        "outputId": "798c4d9d-4128-470f-ea89-7339e595b1f6",
        "colab": {
          "base_uri": "https://localhost:8080/",
          "height": 133
        }
      },
      "source": [
        "df = (pd.DataFrame({'a_column': [1, -999, -999],\n",
        "                    'powerless_column': [2, 3, 4],\n",
        "                    'int_column': [1, 1, -1]})\n",
        "        .assign(a_column=lambda _df: _df['a_column'].replace(-999, np.nan),\n",
        "                power_column=lambda _df: _df['powerless_column'] ** 2,\n",
        "                real_column=lambda _df: _df['int_column'].astype(np.float64))\n",
        "        .apply(lambda _df: _df.replace(4, np.nan))\n",
        "        .dropna(how='all')\n",
        "      )\n",
        "df"
      ],
      "execution_count": 0,
      "outputs": [
        {
          "output_type": "execute_result",
          "data": {
            "text/html": [
              "<div>\n",
              "<style scoped>\n",
              "    .dataframe tbody tr th:only-of-type {\n",
              "        vertical-align: middle;\n",
              "    }\n",
              "\n",
              "    .dataframe tbody tr th {\n",
              "        vertical-align: top;\n",
              "    }\n",
              "\n",
              "    .dataframe thead th {\n",
              "        text-align: right;\n",
              "    }\n",
              "</style>\n",
              "<table border=\"1\" class=\"dataframe\">\n",
              "  <thead>\n",
              "    <tr style=\"text-align: right;\">\n",
              "      <th></th>\n",
              "      <th>a_column</th>\n",
              "      <th>powerless_column</th>\n",
              "      <th>int_column</th>\n",
              "      <th>power_column</th>\n",
              "      <th>real_column</th>\n",
              "    </tr>\n",
              "  </thead>\n",
              "  <tbody>\n",
              "    <tr>\n",
              "      <th>0</th>\n",
              "      <td>1.0</td>\n",
              "      <td>2.0</td>\n",
              "      <td>1</td>\n",
              "      <td>NaN</td>\n",
              "      <td>1.0</td>\n",
              "    </tr>\n",
              "    <tr>\n",
              "      <th>1</th>\n",
              "      <td>NaN</td>\n",
              "      <td>3.0</td>\n",
              "      <td>1</td>\n",
              "      <td>9.0</td>\n",
              "      <td>1.0</td>\n",
              "    </tr>\n",
              "    <tr>\n",
              "      <th>2</th>\n",
              "      <td>NaN</td>\n",
              "      <td>NaN</td>\n",
              "      <td>-1</td>\n",
              "      <td>16.0</td>\n",
              "      <td>-1.0</td>\n",
              "    </tr>\n",
              "  </tbody>\n",
              "</table>\n",
              "</div>"
            ],
            "text/plain": [
              "   a_column  powerless_column  int_column  power_column  real_column\n",
              "0       1.0               2.0           1           NaN          1.0\n",
              "1       NaN               3.0           1           9.0          1.0\n",
              "2       NaN               NaN          -1          16.0         -1.0"
            ]
          },
          "metadata": {
            "tags": []
          },
          "execution_count": 53
        }
      ]
    },
    {
      "cell_type": "code",
      "metadata": {
        "id": "cWgWtqViE13u",
        "colab_type": "code",
        "outputId": "09820448-b899-4775-d61a-51dc70f4fde0",
        "colab": {
          "base_uri": "https://localhost:8080/",
          "height": 248
        }
      },
      "source": [
        "(df\n",
        " .groupby('age')\n",
        " .agg({'generation':'unique'})\n",
        " .rename(columns={'generation':'unique_generation'})\n",
        ")"
      ],
      "execution_count": 0,
      "outputs": [
        {
          "output_type": "execute_result",
          "data": {
            "text/html": [
              "<div>\n",
              "<style scoped>\n",
              "    .dataframe tbody tr th:only-of-type {\n",
              "        vertical-align: middle;\n",
              "    }\n",
              "\n",
              "    .dataframe tbody tr th {\n",
              "        vertical-align: top;\n",
              "    }\n",
              "\n",
              "    .dataframe thead th {\n",
              "        text-align: right;\n",
              "    }\n",
              "</style>\n",
              "<table border=\"1\" class=\"dataframe\">\n",
              "  <thead>\n",
              "    <tr style=\"text-align: right;\">\n",
              "      <th></th>\n",
              "      <th>unique_generation</th>\n",
              "    </tr>\n",
              "    <tr>\n",
              "      <th>age</th>\n",
              "      <th></th>\n",
              "    </tr>\n",
              "  </thead>\n",
              "  <tbody>\n",
              "    <tr>\n",
              "      <th>15-24 years</th>\n",
              "      <td>[Generation X, Millenials]</td>\n",
              "    </tr>\n",
              "    <tr>\n",
              "      <th>25-34 years</th>\n",
              "      <td>[Boomers, Generation X, Millenials]</td>\n",
              "    </tr>\n",
              "    <tr>\n",
              "      <th>35-54 years</th>\n",
              "      <td>[Silent, Boomers, Generation X]</td>\n",
              "    </tr>\n",
              "    <tr>\n",
              "      <th>5-14 years</th>\n",
              "      <td>[Generation X, Millenials, Generation Z]</td>\n",
              "    </tr>\n",
              "    <tr>\n",
              "      <th>55-74 years</th>\n",
              "      <td>[G.I. Generation, Silent, Boomers]</td>\n",
              "    </tr>\n",
              "    <tr>\n",
              "      <th>75+ years</th>\n",
              "      <td>[G.I. Generation, Silent]</td>\n",
              "    </tr>\n",
              "  </tbody>\n",
              "</table>\n",
              "</div>"
            ],
            "text/plain": [
              "                                    unique_generation\n",
              "age                                                  \n",
              "15-24 years                [Generation X, Millenials]\n",
              "25-34 years       [Boomers, Generation X, Millenials]\n",
              "35-54 years           [Silent, Boomers, Generation X]\n",
              "5-14 years   [Generation X, Millenials, Generation Z]\n",
              "55-74 years        [G.I. Generation, Silent, Boomers]\n",
              "75+ years                   [G.I. Generation, Silent]"
            ]
          },
          "metadata": {
            "tags": []
          },
          "execution_count": 74
        }
      ]
    },
    {
      "cell_type": "code",
      "metadata": {
        "id": "MxLSdgW7FPY4",
        "colab_type": "code",
        "outputId": "4bcdf695-5d7f-4470-f1b3-299aa090950e",
        "colab": {
          "base_uri": "https://localhost:8080/",
          "height": 363
        }
      },
      "source": [
        "(df\n",
        " .groupby(['country', 'year'])\n",
        " .agg({'suicides_per_100k': 'sum'})\n",
        " .rename(columns={'suicides_per_100k':'suicides_sum'})\n",
        " .sort_values('suicides_sum', ascending=False)\n",
        " .head(10)\n",
        ")"
      ],
      "execution_count": 0,
      "outputs": [
        {
          "output_type": "execute_result",
          "data": {
            "text/html": [
              "<div>\n",
              "<style scoped>\n",
              "    .dataframe tbody tr th:only-of-type {\n",
              "        vertical-align: middle;\n",
              "    }\n",
              "\n",
              "    .dataframe tbody tr th {\n",
              "        vertical-align: top;\n",
              "    }\n",
              "\n",
              "    .dataframe thead th {\n",
              "        text-align: right;\n",
              "    }\n",
              "</style>\n",
              "<table border=\"1\" class=\"dataframe\">\n",
              "  <thead>\n",
              "    <tr style=\"text-align: right;\">\n",
              "      <th></th>\n",
              "      <th></th>\n",
              "      <th>suicides_sum</th>\n",
              "    </tr>\n",
              "    <tr>\n",
              "      <th>country</th>\n",
              "      <th>year</th>\n",
              "      <th></th>\n",
              "    </tr>\n",
              "  </thead>\n",
              "  <tbody>\n",
              "    <tr>\n",
              "      <th rowspan=\"2\" valign=\"top\">Lithuania</th>\n",
              "      <th>1995</th>\n",
              "      <td>639.30</td>\n",
              "    </tr>\n",
              "    <tr>\n",
              "      <th>1996</th>\n",
              "      <td>595.61</td>\n",
              "    </tr>\n",
              "    <tr>\n",
              "      <th>Hungary</th>\n",
              "      <th>1991</th>\n",
              "      <td>575.00</td>\n",
              "    </tr>\n",
              "    <tr>\n",
              "      <th>Lithuania</th>\n",
              "      <th>2000</th>\n",
              "      <td>571.80</td>\n",
              "    </tr>\n",
              "    <tr>\n",
              "      <th>Hungary</th>\n",
              "      <th>1992</th>\n",
              "      <td>570.26</td>\n",
              "    </tr>\n",
              "    <tr>\n",
              "      <th>Lithuania</th>\n",
              "      <th>2001</th>\n",
              "      <td>568.98</td>\n",
              "    </tr>\n",
              "    <tr>\n",
              "      <th>Russian Federation</th>\n",
              "      <th>1994</th>\n",
              "      <td>567.64</td>\n",
              "    </tr>\n",
              "    <tr>\n",
              "      <th rowspan=\"3\" valign=\"top\">Lithuania</th>\n",
              "      <th>1998</th>\n",
              "      <td>566.36</td>\n",
              "    </tr>\n",
              "    <tr>\n",
              "      <th>1997</th>\n",
              "      <td>565.44</td>\n",
              "    </tr>\n",
              "    <tr>\n",
              "      <th>1999</th>\n",
              "      <td>561.53</td>\n",
              "    </tr>\n",
              "  </tbody>\n",
              "</table>\n",
              "</div>"
            ],
            "text/plain": [
              "                         suicides_sum\n",
              "country            year              \n",
              "Lithuania          1995        639.30\n",
              "                   1996        595.61\n",
              "Hungary            1991        575.00\n",
              "Lithuania          2000        571.80\n",
              "Hungary            1992        570.26\n",
              "Lithuania          2001        568.98\n",
              "Russian Federation 1994        567.64\n",
              "Lithuania          1998        566.36\n",
              "                   1997        565.44\n",
              "                   1999        561.53"
            ]
          },
          "metadata": {
            "tags": []
          },
          "execution_count": 75
        }
      ]
    },
    {
      "cell_type": "code",
      "metadata": {
        "id": "_47Hqv6vFuPK",
        "colab_type": "code",
        "outputId": "dcdde802-b77b-4166-db18-28b3ac1f2ec1",
        "colab": {
          "base_uri": "https://localhost:8080/",
          "height": 363
        }
      },
      "source": [
        "(df\n",
        " .groupby(['country', 'year'])\n",
        " .agg({'suicides_per_100k': 'sum'})\n",
        " .rename(columns={'suicides_per_100k':'suicides_sum'})\n",
        " .nlargest(10, columns='suicides_sum')\n",
        ")"
      ],
      "execution_count": 0,
      "outputs": [
        {
          "output_type": "execute_result",
          "data": {
            "text/html": [
              "<div>\n",
              "<style scoped>\n",
              "    .dataframe tbody tr th:only-of-type {\n",
              "        vertical-align: middle;\n",
              "    }\n",
              "\n",
              "    .dataframe tbody tr th {\n",
              "        vertical-align: top;\n",
              "    }\n",
              "\n",
              "    .dataframe thead th {\n",
              "        text-align: right;\n",
              "    }\n",
              "</style>\n",
              "<table border=\"1\" class=\"dataframe\">\n",
              "  <thead>\n",
              "    <tr style=\"text-align: right;\">\n",
              "      <th></th>\n",
              "      <th></th>\n",
              "      <th>suicides_sum</th>\n",
              "    </tr>\n",
              "    <tr>\n",
              "      <th>country</th>\n",
              "      <th>year</th>\n",
              "      <th></th>\n",
              "    </tr>\n",
              "  </thead>\n",
              "  <tbody>\n",
              "    <tr>\n",
              "      <th rowspan=\"2\" valign=\"top\">Lithuania</th>\n",
              "      <th>1995</th>\n",
              "      <td>639.30</td>\n",
              "    </tr>\n",
              "    <tr>\n",
              "      <th>1996</th>\n",
              "      <td>595.61</td>\n",
              "    </tr>\n",
              "    <tr>\n",
              "      <th>Hungary</th>\n",
              "      <th>1991</th>\n",
              "      <td>575.00</td>\n",
              "    </tr>\n",
              "    <tr>\n",
              "      <th>Lithuania</th>\n",
              "      <th>2000</th>\n",
              "      <td>571.80</td>\n",
              "    </tr>\n",
              "    <tr>\n",
              "      <th>Hungary</th>\n",
              "      <th>1992</th>\n",
              "      <td>570.26</td>\n",
              "    </tr>\n",
              "    <tr>\n",
              "      <th>Lithuania</th>\n",
              "      <th>2001</th>\n",
              "      <td>568.98</td>\n",
              "    </tr>\n",
              "    <tr>\n",
              "      <th>Russian Federation</th>\n",
              "      <th>1994</th>\n",
              "      <td>567.64</td>\n",
              "    </tr>\n",
              "    <tr>\n",
              "      <th rowspan=\"3\" valign=\"top\">Lithuania</th>\n",
              "      <th>1998</th>\n",
              "      <td>566.36</td>\n",
              "    </tr>\n",
              "    <tr>\n",
              "      <th>1997</th>\n",
              "      <td>565.44</td>\n",
              "    </tr>\n",
              "    <tr>\n",
              "      <th>1999</th>\n",
              "      <td>561.53</td>\n",
              "    </tr>\n",
              "  </tbody>\n",
              "</table>\n",
              "</div>"
            ],
            "text/plain": [
              "                         suicides_sum\n",
              "country            year              \n",
              "Lithuania          1995        639.30\n",
              "                   1996        595.61\n",
              "Hungary            1991        575.00\n",
              "Lithuania          2000        571.80\n",
              "Hungary            1992        570.26\n",
              "Lithuania          2001        568.98\n",
              "Russian Federation 1994        567.64\n",
              "Lithuania          1998        566.36\n",
              "                   1997        565.44\n",
              "                   1999        561.53"
            ]
          },
          "metadata": {
            "tags": []
          },
          "execution_count": 76
        }
      ]
    },
    {
      "cell_type": "code",
      "metadata": {
        "id": "U7zdYTWsGGS9",
        "colab_type": "code",
        "outputId": "99a97015-a6f7-4007-bc12-5c8a4713c539",
        "colab": {
          "base_uri": "https://localhost:8080/",
          "height": 277
        }
      },
      "source": [
        "(mi_df\n",
        " .loc[('Switzerland', 2000)]\n",
        " .unstack('sex')\n",
        " [['suicides_no', 'population']]\n",
        ")"
      ],
      "execution_count": 0,
      "outputs": [
        {
          "output_type": "execute_result",
          "data": {
            "text/html": [
              "<div>\n",
              "<style scoped>\n",
              "    .dataframe tbody tr th:only-of-type {\n",
              "        vertical-align: middle;\n",
              "    }\n",
              "\n",
              "    .dataframe tbody tr th {\n",
              "        vertical-align: top;\n",
              "    }\n",
              "\n",
              "    .dataframe thead tr th {\n",
              "        text-align: left;\n",
              "    }\n",
              "\n",
              "    .dataframe thead tr:last-of-type th {\n",
              "        text-align: right;\n",
              "    }\n",
              "</style>\n",
              "<table border=\"1\" class=\"dataframe\">\n",
              "  <thead>\n",
              "    <tr>\n",
              "      <th></th>\n",
              "      <th colspan=\"2\" halign=\"left\">suicides_no</th>\n",
              "      <th colspan=\"2\" halign=\"left\">population</th>\n",
              "    </tr>\n",
              "    <tr>\n",
              "      <th>sex</th>\n",
              "      <th>female</th>\n",
              "      <th>male</th>\n",
              "      <th>female</th>\n",
              "      <th>male</th>\n",
              "    </tr>\n",
              "    <tr>\n",
              "      <th>age</th>\n",
              "      <th></th>\n",
              "      <th></th>\n",
              "      <th></th>\n",
              "      <th></th>\n",
              "    </tr>\n",
              "  </thead>\n",
              "  <tbody>\n",
              "    <tr>\n",
              "      <th>15-24 years</th>\n",
              "      <td>20</td>\n",
              "      <td>79</td>\n",
              "      <td>410136</td>\n",
              "      <td>426957</td>\n",
              "    </tr>\n",
              "    <tr>\n",
              "      <th>25-34 years</th>\n",
              "      <td>47</td>\n",
              "      <td>147</td>\n",
              "      <td>537823</td>\n",
              "      <td>530378</td>\n",
              "    </tr>\n",
              "    <tr>\n",
              "      <th>35-54 years</th>\n",
              "      <td>124</td>\n",
              "      <td>360</td>\n",
              "      <td>1072711</td>\n",
              "      <td>1094229</td>\n",
              "    </tr>\n",
              "    <tr>\n",
              "      <th>5-14 years</th>\n",
              "      <td>1</td>\n",
              "      <td>4</td>\n",
              "      <td>412273</td>\n",
              "      <td>436831</td>\n",
              "    </tr>\n",
              "    <tr>\n",
              "      <th>55-74 years</th>\n",
              "      <td>128</td>\n",
              "      <td>239</td>\n",
              "      <td>723750</td>\n",
              "      <td>649009</td>\n",
              "    </tr>\n",
              "    <tr>\n",
              "      <th>75+ years</th>\n",
              "      <td>79</td>\n",
              "      <td>152</td>\n",
              "      <td>330903</td>\n",
              "      <td>184589</td>\n",
              "    </tr>\n",
              "  </tbody>\n",
              "</table>\n",
              "</div>"
            ],
            "text/plain": [
              "            suicides_no      population         \n",
              "sex              female male     female     male\n",
              "age                                             \n",
              "15-24 years          20   79     410136   426957\n",
              "25-34 years          47  147     537823   530378\n",
              "35-54 years         124  360    1072711  1094229\n",
              "5-14 years            1    4     412273   436831\n",
              "55-74 years         128  239     723750   649009\n",
              "75+ years            79  152     330903   184589"
            ]
          },
          "metadata": {
            "tags": []
          },
          "execution_count": 77
        }
      ]
    },
    {
      "cell_type": "code",
      "metadata": {
        "id": "Cnl3KToSGSZB",
        "colab_type": "code",
        "colab": {}
      },
      "source": [
        "def log_head(df, head_count=10):\n",
        "    print(df.head(head_count))\n",
        "    return df\n",
        "\n",
        "def log_columns(df):\n",
        "    print(df.columns)\n",
        "    return df\n",
        "\n",
        "def log_shape(df):\n",
        "    print(f'shape = {df.shape}')\n",
        "    return df"
      ],
      "execution_count": 0,
      "outputs": []
    },
    {
      "cell_type": "code",
      "metadata": {
        "id": "uSChuO6LJ9m8",
        "colab_type": "code",
        "outputId": "504a1a40-fdc0-4499-cc77-72af8ac8a8d9",
        "colab": {
          "base_uri": "https://localhost:8080/",
          "height": 396
        }
      },
      "source": [
        "(df\n",
        " .pipe(log_shape)\n",
        " .query('sex == \"female\"')\n",
        " .groupby(['year', 'country'])\n",
        " .agg({'suicides_per_100k':'sum'})\n",
        " .pipe(log_shape)\n",
        " .rename(columns={'suicides_per_100k':'sum_suicides_per_100k_female'})\n",
        " .nlargest(n=10, columns=['sum_suicides_per_100k_female'])\n",
        ")"
      ],
      "execution_count": 0,
      "outputs": [
        {
          "output_type": "stream",
          "text": [
            "shape = (27820, 12)\n",
            "shape = (2321, 1)\n"
          ],
          "name": "stdout"
        },
        {
          "output_type": "execute_result",
          "data": {
            "text/html": [
              "<div>\n",
              "<style scoped>\n",
              "    .dataframe tbody tr th:only-of-type {\n",
              "        vertical-align: middle;\n",
              "    }\n",
              "\n",
              "    .dataframe tbody tr th {\n",
              "        vertical-align: top;\n",
              "    }\n",
              "\n",
              "    .dataframe thead th {\n",
              "        text-align: right;\n",
              "    }\n",
              "</style>\n",
              "<table border=\"1\" class=\"dataframe\">\n",
              "  <thead>\n",
              "    <tr style=\"text-align: right;\">\n",
              "      <th></th>\n",
              "      <th></th>\n",
              "      <th>sum_suicides_per_100k_female</th>\n",
              "    </tr>\n",
              "    <tr>\n",
              "      <th>year</th>\n",
              "      <th>country</th>\n",
              "      <th></th>\n",
              "    </tr>\n",
              "  </thead>\n",
              "  <tbody>\n",
              "    <tr>\n",
              "      <th>2009</th>\n",
              "      <th>Republic of Korea</th>\n",
              "      <td>170.89</td>\n",
              "    </tr>\n",
              "    <tr>\n",
              "      <th>1989</th>\n",
              "      <th>Singapore</th>\n",
              "      <td>163.16</td>\n",
              "    </tr>\n",
              "    <tr>\n",
              "      <th>1986</th>\n",
              "      <th>Singapore</th>\n",
              "      <td>161.67</td>\n",
              "    </tr>\n",
              "    <tr>\n",
              "      <th>2010</th>\n",
              "      <th>Republic of Korea</th>\n",
              "      <td>158.52</td>\n",
              "    </tr>\n",
              "    <tr>\n",
              "      <th>2007</th>\n",
              "      <th>Republic of Korea</th>\n",
              "      <td>149.60</td>\n",
              "    </tr>\n",
              "    <tr>\n",
              "      <th>2011</th>\n",
              "      <th>Republic of Korea</th>\n",
              "      <td>147.84</td>\n",
              "    </tr>\n",
              "    <tr>\n",
              "      <th>1991</th>\n",
              "      <th>Hungary</th>\n",
              "      <td>147.35</td>\n",
              "    </tr>\n",
              "    <tr>\n",
              "      <th>2008</th>\n",
              "      <th>Republic of Korea</th>\n",
              "      <td>147.04</td>\n",
              "    </tr>\n",
              "    <tr>\n",
              "      <th>2000</th>\n",
              "      <th>Aruba</th>\n",
              "      <td>146.22</td>\n",
              "    </tr>\n",
              "    <tr>\n",
              "      <th>2005</th>\n",
              "      <th>Republic of Korea</th>\n",
              "      <td>145.35</td>\n",
              "    </tr>\n",
              "  </tbody>\n",
              "</table>\n",
              "</div>"
            ],
            "text/plain": [
              "                        sum_suicides_per_100k_female\n",
              "year country                                        \n",
              "2009 Republic of Korea                        170.89\n",
              "1989 Singapore                                163.16\n",
              "1986 Singapore                                161.67\n",
              "2010 Republic of Korea                        158.52\n",
              "2007 Republic of Korea                        149.60\n",
              "2011 Republic of Korea                        147.84\n",
              "1991 Hungary                                  147.35\n",
              "2008 Republic of Korea                        147.04\n",
              "2000 Aruba                                    146.22\n",
              "2005 Republic of Korea                        145.35"
            ]
          },
          "metadata": {
            "tags": []
          },
          "execution_count": 80
        }
      ]
    },
    {
      "cell_type": "code",
      "metadata": {
        "id": "pS-C4SY9MbqU",
        "colab_type": "code",
        "colab": {}
      },
      "source": [
        "from sklearn.preprocessing import MinMaxScaler\n",
        "\n",
        "def norm_df(df, columns):\n",
        "    return df.assign(**{col: MinMaxScaler().fit_transform(df[[col]].values.astype(float)) \n",
        "                        for col in columns})"
      ],
      "execution_count": 0,
      "outputs": []
    },
    {
      "cell_type": "code",
      "metadata": {
        "id": "lC92F_NsKqoK",
        "colab_type": "code",
        "outputId": "c8c77508-614a-4733-9948-75e33af3aaf4",
        "colab": {
          "base_uri": "https://localhost:8080/",
          "height": 602
        }
      },
      "source": [
        "for sex in ['male', 'female']:\n",
        "    print(sex)\n",
        "    print(\n",
        "        df\n",
        "        .query(f'sex == \"{sex}\"')\n",
        "        .groupby(['country'])\n",
        "        .agg({'suicides_per_100k': 'sum', 'gdp_year': 'mean'})\n",
        "        .rename(columns={'suicides_per_100k':'suicides_per_100k_sum', \n",
        "                         'gdp_year': 'gdp_year_mean'})\n",
        "    )\n",
        "    print('\\n')"
      ],
      "execution_count": 0,
      "outputs": [
        {
          "output_type": "stream",
          "text": [
            "male\n",
            "                      suicides_per_100k_sum  gdp_year_mean\n",
            "country                                                   \n",
            "Albania                              605.78   5.211661e+09\n",
            "Antigua and Barbuda                  163.52   8.035452e+08\n",
            "Argentina                           3188.54   2.742565e+11\n",
            "Armenia                              736.80   5.386592e+09\n",
            "Aruba                               1320.17   2.196223e+09\n",
            "...                                     ...            ...\n",
            "United Arab Emirates                  60.08   2.532432e+11\n",
            "United Kingdom                      2158.12   1.816067e+12\n",
            "United States                       4271.16   1.051071e+13\n",
            "Uruguay                             5444.72   2.337827e+10\n",
            "Uzbekistan                          1565.79   2.286003e+10\n",
            "\n",
            "[101 rows x 2 columns]\n",
            "\n",
            "\n",
            "female\n",
            "                      suicides_per_100k_sum  gdp_year_mean\n",
            "country                                                   \n",
            "Albania                              318.98   5.211661e+09\n",
            "Antigua and Barbuda                   15.62   8.035452e+08\n",
            "Argentina                            706.05   2.742565e+11\n",
            "Armenia                              239.41   5.386592e+09\n",
            "Aruba                                276.35   2.196223e+09\n",
            "...                                     ...            ...\n",
            "United Arab Emirates                  34.81   2.532432e+11\n",
            "United Kingdom                       632.80   1.816067e+12\n",
            "United States                        869.81   1.051071e+13\n",
            "Uruguay                             1094.24   2.337827e+10\n",
            "Uzbekistan                           572.38   2.286003e+10\n",
            "\n",
            "[101 rows x 2 columns]\n",
            "\n",
            "\n"
          ],
          "name": "stdout"
        }
      ]
    },
    {
      "cell_type": "code",
      "metadata": {
        "id": "fHrDP4sVLZln",
        "colab_type": "code",
        "outputId": "f0c64487-3fe0-4656-b454-f706ae53cf95",
        "colab": {
          "base_uri": "https://localhost:8080/",
          "height": 602
        }
      },
      "source": [
        "for sex in ['male', 'female']:\n",
        "    print(sex)\n",
        "    print(\n",
        "        df\n",
        "        .query(f'sex == \"{sex}\"')\n",
        "        .groupby(['country'])\n",
        "        .agg({'suicides_per_100k': 'sum', 'gdp_year': 'mean'})\n",
        "        .rename(columns={'suicides_per_100k':'suicides_per_100k_sum', \n",
        "                         'gdp_year': 'gdp_year_mean'})\n",
        "        .pipe(norm_df, columns=['suicides_per_100k_sum', 'gdp_year_mean'])\n",
        "    )\n",
        "    print('\\n')"
      ],
      "execution_count": 0,
      "outputs": [
        {
          "output_type": "stream",
          "text": [
            "male\n",
            "                      suicides_per_100k_sum  gdp_year_mean\n",
            "country                                                   \n",
            "Albania                            0.064269       0.000490\n",
            "Antigua and Barbuda                0.017348       0.000071\n",
            "Argentina                          0.338279       0.026088\n",
            "Armenia                            0.078169       0.000507\n",
            "Aruba                              0.140060       0.000203\n",
            "...                                     ...            ...\n",
            "United Arab Emirates               0.006374       0.024088\n",
            "United Kingdom                     0.228960       0.172778\n",
            "United States                      0.453137       1.000000\n",
            "Uruguay                            0.577643       0.002219\n",
            "Uzbekistan                         0.166118       0.002169\n",
            "\n",
            "[101 rows x 2 columns]\n",
            "\n",
            "\n",
            "female\n",
            "                      suicides_per_100k_sum  gdp_year_mean\n",
            "country                                                   \n",
            "Albania                            0.115777       0.000490\n",
            "Antigua and Barbuda                0.005669       0.000071\n",
            "Argentina                          0.256267       0.026088\n",
            "Armenia                            0.086896       0.000507\n",
            "Aruba                              0.100304       0.000203\n",
            "...                                     ...            ...\n",
            "United Arab Emirates               0.012635       0.024088\n",
            "United Kingdom                     0.229681       0.172778\n",
            "United States                      0.315706       1.000000\n",
            "Uruguay                            0.397165       0.002219\n",
            "Uzbekistan                         0.207751       0.002169\n",
            "\n",
            "[101 rows x 2 columns]\n",
            "\n",
            "\n"
          ],
          "name": "stdout"
        }
      ]
    },
    {
      "cell_type": "code",
      "metadata": {
        "id": "mtGRNvR9L-7g",
        "colab_type": "code",
        "outputId": "c800c636-5d9f-4387-f721-0a9af1994192",
        "colab": {
          "base_uri": "https://localhost:8080/",
          "height": 212
        }
      },
      "source": [
        "for sex in ['male', 'female']:\n",
        "    print(sex)\n",
        "    print(\n",
        "        df\n",
        "        .query(f'sex == \"{sex}\"')\n",
        "        .groupby(['country'])\n",
        "        .agg({'suicides_per_100k': 'sum', 'gdp_year': 'mean'})\n",
        "        .rename(columns={'suicides_per_100k':'suicides_per_100k_sum', \n",
        "                         'gdp_year': 'gdp_year_mean'})\n",
        "        .pipe(norm_df, columns=['suicides_per_100k_sum', 'gdp_year_mean'])\n",
        "        .corr(method='spearman')\n",
        "    )\n",
        "    print('\\n')"
      ],
      "execution_count": 0,
      "outputs": [
        {
          "output_type": "stream",
          "text": [
            "male\n",
            "                       suicides_per_100k_sum  gdp_year_mean\n",
            "suicides_per_100k_sum               1.000000       0.421218\n",
            "gdp_year_mean                       0.421218       1.000000\n",
            "\n",
            "\n",
            "female\n",
            "                       suicides_per_100k_sum  gdp_year_mean\n",
            "suicides_per_100k_sum               1.000000       0.452343\n",
            "gdp_year_mean                       0.452343       1.000000\n",
            "\n",
            "\n"
          ],
          "name": "stdout"
        }
      ]
    },
    {
      "cell_type": "code",
      "metadata": {
        "id": "PC_AfAOCMStj",
        "colab_type": "code",
        "colab": {}
      },
      "source": [
        ""
      ],
      "execution_count": 0,
      "outputs": []
    }
  ]
}